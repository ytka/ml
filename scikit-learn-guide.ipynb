{
 "cells": [
  {
   "cell_type": "markdown",
   "metadata": {},
   "source": [
    "# sikitlearnを試す\n",
    "https://www.codexa.net/scikit-learn-intro/\n",
    "\n",
    "# 教師あり学習:分類問題\n",
    "\n",
    "# Irisデータを読み込む\n",
    "アヤメの種類に関するデータセットで、アヤメの種類の予測を行います。まずは、データを読み込んで中身を確認した後に、訓練データとテストデータに分割しましょう。"
   ]
  },
  {
   "cell_type": "code",
   "execution_count": 1,
   "metadata": {},
   "outputs": [],
   "source": [
    "import pandas as pd\n",
    "import sklearn\n",
    "from sklearn.datasets import load_iris, load_boston"
   ]
  },
  {
   "cell_type": "code",
   "execution_count": 4,
   "metadata": {},
   "outputs": [
    {
     "data": {
      "text/html": [
       "<div>\n",
       "<style scoped>\n",
       "    .dataframe tbody tr th:only-of-type {\n",
       "        vertical-align: middle;\n",
       "    }\n",
       "\n",
       "    .dataframe tbody tr th {\n",
       "        vertical-align: top;\n",
       "    }\n",
       "\n",
       "    .dataframe thead th {\n",
       "        text-align: right;\n",
       "    }\n",
       "</style>\n",
       "<table border=\"1\" class=\"dataframe\">\n",
       "  <thead>\n",
       "    <tr style=\"text-align: right;\">\n",
       "      <th></th>\n",
       "      <th>sepal length (cm)</th>\n",
       "      <th>sepal width (cm)</th>\n",
       "      <th>petal length (cm)</th>\n",
       "      <th>petal width (cm)</th>\n",
       "    </tr>\n",
       "  </thead>\n",
       "  <tbody>\n",
       "    <tr>\n",
       "      <th>0</th>\n",
       "      <td>5.1</td>\n",
       "      <td>3.5</td>\n",
       "      <td>1.4</td>\n",
       "      <td>0.2</td>\n",
       "    </tr>\n",
       "    <tr>\n",
       "      <th>1</th>\n",
       "      <td>4.9</td>\n",
       "      <td>3.0</td>\n",
       "      <td>1.4</td>\n",
       "      <td>0.2</td>\n",
       "    </tr>\n",
       "    <tr>\n",
       "      <th>2</th>\n",
       "      <td>4.7</td>\n",
       "      <td>3.2</td>\n",
       "      <td>1.3</td>\n",
       "      <td>0.2</td>\n",
       "    </tr>\n",
       "    <tr>\n",
       "      <th>3</th>\n",
       "      <td>4.6</td>\n",
       "      <td>3.1</td>\n",
       "      <td>1.5</td>\n",
       "      <td>0.2</td>\n",
       "    </tr>\n",
       "    <tr>\n",
       "      <th>4</th>\n",
       "      <td>5.0</td>\n",
       "      <td>3.6</td>\n",
       "      <td>1.4</td>\n",
       "      <td>0.2</td>\n",
       "    </tr>\n",
       "  </tbody>\n",
       "</table>\n",
       "</div>"
      ],
      "text/plain": [
       "   sepal length (cm)  sepal width (cm)  petal length (cm)  petal width (cm)\n",
       "0                5.1               3.5                1.4               0.2\n",
       "1                4.9               3.0                1.4               0.2\n",
       "2                4.7               3.2                1.3               0.2\n",
       "3                4.6               3.1                1.5               0.2\n",
       "4                5.0               3.6                1.4               0.2"
      ]
     },
     "execution_count": 4,
     "metadata": {},
     "output_type": "execute_result"
    }
   ],
   "source": [
    "#irisデータセットの読み込み\n",
    "iris = load_iris()\n",
    "#特徴量をデータフレームに格納して、最初の五行を表示\n",
    "iris_features = pd.DataFrame(data=iris.data, columns=iris.feature_names)\n",
    "iris_features.head()\n"
   ]
  },
  {
   "cell_type": "code",
   "execution_count": 5,
   "metadata": {},
   "outputs": [
    {
     "data": {
      "text/html": [
       "<div>\n",
       "<style scoped>\n",
       "    .dataframe tbody tr th:only-of-type {\n",
       "        vertical-align: middle;\n",
       "    }\n",
       "\n",
       "    .dataframe tbody tr th {\n",
       "        vertical-align: top;\n",
       "    }\n",
       "\n",
       "    .dataframe thead th {\n",
       "        text-align: right;\n",
       "    }\n",
       "</style>\n",
       "<table border=\"1\" class=\"dataframe\">\n",
       "  <thead>\n",
       "    <tr style=\"text-align: right;\">\n",
       "      <th></th>\n",
       "      <th>sepal length (cm)</th>\n",
       "      <th>sepal width (cm)</th>\n",
       "      <th>petal length (cm)</th>\n",
       "      <th>petal width (cm)</th>\n",
       "    </tr>\n",
       "  </thead>\n",
       "  <tbody>\n",
       "    <tr>\n",
       "      <th>count</th>\n",
       "      <td>150.000000</td>\n",
       "      <td>150.000000</td>\n",
       "      <td>150.000000</td>\n",
       "      <td>150.000000</td>\n",
       "    </tr>\n",
       "    <tr>\n",
       "      <th>mean</th>\n",
       "      <td>5.843333</td>\n",
       "      <td>3.057333</td>\n",
       "      <td>3.758000</td>\n",
       "      <td>1.199333</td>\n",
       "    </tr>\n",
       "    <tr>\n",
       "      <th>std</th>\n",
       "      <td>0.828066</td>\n",
       "      <td>0.435866</td>\n",
       "      <td>1.765298</td>\n",
       "      <td>0.762238</td>\n",
       "    </tr>\n",
       "    <tr>\n",
       "      <th>min</th>\n",
       "      <td>4.300000</td>\n",
       "      <td>2.000000</td>\n",
       "      <td>1.000000</td>\n",
       "      <td>0.100000</td>\n",
       "    </tr>\n",
       "    <tr>\n",
       "      <th>25%</th>\n",
       "      <td>5.100000</td>\n",
       "      <td>2.800000</td>\n",
       "      <td>1.600000</td>\n",
       "      <td>0.300000</td>\n",
       "    </tr>\n",
       "    <tr>\n",
       "      <th>50%</th>\n",
       "      <td>5.800000</td>\n",
       "      <td>3.000000</td>\n",
       "      <td>4.350000</td>\n",
       "      <td>1.300000</td>\n",
       "    </tr>\n",
       "    <tr>\n",
       "      <th>75%</th>\n",
       "      <td>6.400000</td>\n",
       "      <td>3.300000</td>\n",
       "      <td>5.100000</td>\n",
       "      <td>1.800000</td>\n",
       "    </tr>\n",
       "    <tr>\n",
       "      <th>max</th>\n",
       "      <td>7.900000</td>\n",
       "      <td>4.400000</td>\n",
       "      <td>6.900000</td>\n",
       "      <td>2.500000</td>\n",
       "    </tr>\n",
       "  </tbody>\n",
       "</table>\n",
       "</div>"
      ],
      "text/plain": [
       "       sepal length (cm)  sepal width (cm)  petal length (cm)  \\\n",
       "count         150.000000        150.000000         150.000000   \n",
       "mean            5.843333          3.057333           3.758000   \n",
       "std             0.828066          0.435866           1.765298   \n",
       "min             4.300000          2.000000           1.000000   \n",
       "25%             5.100000          2.800000           1.600000   \n",
       "50%             5.800000          3.000000           4.350000   \n",
       "75%             6.400000          3.300000           5.100000   \n",
       "max             7.900000          4.400000           6.900000   \n",
       "\n",
       "       petal width (cm)  \n",
       "count        150.000000  \n",
       "mean           1.199333  \n",
       "std            0.762238  \n",
       "min            0.100000  \n",
       "25%            0.300000  \n",
       "50%            1.300000  \n",
       "75%            1.800000  \n",
       "max            2.500000  "
      ]
     },
     "execution_count": 5,
     "metadata": {},
     "output_type": "execute_result"
    }
   ],
   "source": [
    "#特徴量の基本統計量を確認\n",
    "iris_features.describe()"
   ]
  },
  {
   "cell_type": "code",
   "execution_count": 6,
   "metadata": {},
   "outputs": [
    {
     "data": {
      "text/plain": [
       "sepal length (cm)    0\n",
       "sepal width (cm)     0\n",
       "petal length (cm)    0\n",
       "petal width (cm)     0\n",
       "dtype: int64"
      ]
     },
     "execution_count": 6,
     "metadata": {},
     "output_type": "execute_result"
    }
   ],
   "source": [
    "#特徴量の欠損値の数を確認\n",
    "iris_features.isnull().sum()"
   ]
  },
  {
   "cell_type": "code",
   "execution_count": 8,
   "metadata": {},
   "outputs": [
    {
     "data": {
      "text/plain": [
       "0    50\n",
       "1    50\n",
       "2    50\n",
       "dtype: int64"
      ]
     },
     "execution_count": 8,
     "metadata": {},
     "output_type": "execute_result"
    }
   ],
   "source": [
    "#ラベルをシリーズに格納\n",
    "iris_label = pd.Series(iris.target)\n",
    "\n",
    "#ラベルごとのデータ数を表示\n",
    "iris_label.value_counts()\n",
    "# 0、1、2のラベルがそれぞれ50ずつあるようですね。これらの数字はそれぞれがアヤメの種類に対応しています。"
   ]
  },
  {
   "cell_type": "code",
   "execution_count": 12,
   "metadata": {},
   "outputs": [
    {
     "data": {
      "text/plain": [
       "0      0\n",
       "1      0\n",
       "2      0\n",
       "3      0\n",
       "4      0\n",
       "      ..\n",
       "145    2\n",
       "146    2\n",
       "147    2\n",
       "148    2\n",
       "149    2\n",
       "Length: 150, dtype: int64"
      ]
     },
     "execution_count": 12,
     "metadata": {},
     "output_type": "execute_result"
    }
   ],
   "source": [
    "#iris.target\n",
    "iris_label"
   ]
  },
  {
   "cell_type": "markdown",
   "metadata": {},
   "source": [
    "# 学習データとテストデータに分割"
   ]
  },
  {
   "cell_type": "code",
   "execution_count": 13,
   "metadata": {},
   "outputs": [],
   "source": [
    "from sklearn.model_selection import train_test_split\n",
    "features_train, features_test, label_train, label_test = train_test_split(\n",
    "    iris_features, iris_label, test_size=0.5, random_state=0)"
   ]
  },
  {
   "cell_type": "code",
   "execution_count": 14,
   "metadata": {},
   "outputs": [
    {
     "name": "stdout",
     "output_type": "stream",
     "text": [
      "(75, 4)\n",
      "(75, 4)\n",
      "(75,)\n",
      "(75,)\n"
     ]
    }
   ],
   "source": [
    "#学習データとテストデータの構造を確認\n",
    "print(features_train.shape)\n",
    "print(features_test.shape)\n",
    "print(label_train.shape)\n",
    "print(label_test.shape)"
   ]
  },
  {
   "cell_type": "markdown",
   "metadata": {},
   "source": [
    "# 分類モデルの実装"
   ]
  },
  {
   "cell_type": "code",
   "execution_count": 16,
   "metadata": {},
   "outputs": [
    {
     "data": {
      "text/plain": [
       "LinearSVC(max_iter=3000, random_state=0)"
      ]
     },
     "execution_count": 16,
     "metadata": {},
     "output_type": "execute_result"
    }
   ],
   "source": [
    "from sklearn import svm\n",
    "\n",
    "#LinearSVMのインスタンスを作成\n",
    "Linsvc = svm.LinearSVC(random_state=0, max_iter=3000)\n",
    "\n",
    "#LinearSVMでデータを学習\n",
    "Linsvc.fit(features_train,label_train)"
   ]
  },
  {
   "cell_type": "code",
   "execution_count": 17,
   "metadata": {},
   "outputs": [
    {
     "name": "stdout",
     "output_type": "stream",
     "text": [
      "[2 1 0 2 0 2 0 1 1 1 2 1 1 1 1 0 1 1 0 0 2 2 0 0 2 0 0 1 1 0 2 2 0 2 2 1 0\n",
      " 2 1 1 2 0 2 0 0 1 2 2 1 2 1 2 2 1 2 2 2 2 1 2 2 0 2 1 1 1 1 2 0 0 2 1 0 0\n",
      " 1]\n"
     ]
    }
   ],
   "source": [
    "#LinearSVMでアヤメの種類を予測\n",
    "label_pred_Linsvc = Linsvc.predict(features_test)\n",
    "print(label_pred_Linsvc)"
   ]
  },
  {
   "cell_type": "code",
   "execution_count": 18,
   "metadata": {},
   "outputs": [
    {
     "name": "stdout",
     "output_type": "stream",
     "text": [
      "[2 1 0 2 0 2 0 1 1 1 2 1 1 1 1 0 1 1 0 0 2 1 0 0 2 0 0 1 1 0 2 1 0 2 2 1 0\n",
      " 2 1 1 2 0 2 0 0 1 2 2 1 2 1 2 1 1 2 2 1 2 1 2 1 0 2 1 1 1 1 2 0 0 2 1 0 0\n",
      " 1]\n"
     ]
    }
   ],
   "source": [
    "#参考: K近傍法\n",
    "from sklearn.neighbors import KNeighborsClassifier\n",
    "\n",
    "#K近傍法のインスタンスを作成\n",
    "Kneighbor = KNeighborsClassifier(n_neighbors=5)\n",
    "\n",
    "#K近傍法でデータを学習\n",
    "Kneighbor.fit(features_train, label_train)\n",
    "\n",
    "#K近傍法でアヤメの種類を予測\n",
    "label_pred_KNeighbor = Kneighbor.predict(features_test)\n",
    "print(label_pred_KNeighbor)"
   ]
  },
  {
   "cell_type": "code",
   "execution_count": 19,
   "metadata": {},
   "outputs": [
    {
     "name": "stdout",
     "output_type": "stream",
     "text": [
      "[2 1 0 2 0 2 0 1 1 1 2 1 1 1 1 0 1 1 0 0 2 1 0 0 1 0 0 1 1 0 2 1 0 2 2 1 0\n",
      " 2 1 1 2 0 2 0 0 1 2 2 1 2 1 2 1 1 2 1 1 2 1 2 1 0 2 1 1 1 1 2 0 0 2 1 0 0\n",
      " 1]\n"
     ]
    }
   ],
   "source": [
    "#参考: ロジスティック回帰\n",
    "from sklearn.linear_model import LogisticRegression\n",
    "\n",
    "#ロジスティック回帰のインスタンスを作成\n",
    "LogReg = LogisticRegression(random_state=0)\n",
    "\n",
    "#ロジスティック回帰でデータを学習\n",
    "LogReg.fit(features_train, label_train)\n",
    "\n",
    "#ロジスティック回帰でアヤメの種類を予測\n",
    "label_pred_LogReg = LogReg.predict(features_test)\n",
    "print(label_pred_LogReg)"
   ]
  },
  {
   "cell_type": "markdown",
   "metadata": {},
   "source": [
    "# 3つの予測モデルを比較する"
   ]
  },
  {
   "cell_type": "code",
   "execution_count": 20,
   "metadata": {},
   "outputs": [
    {
     "name": "stdout",
     "output_type": "stream",
     "text": [
      "confusion matrix = \n",
      " [[21  0  0]\n",
      " [ 0 25  5]\n",
      " [ 0  1 23]]\n",
      "accuracy =  0.92\n"
     ]
    }
   ],
   "source": [
    "#LinearSVMによる予測の混同行列、正解率を表示\n",
    "from sklearn.metrics import confusion_matrix\n",
    "print('confusion matrix = \\n', confusion_matrix(\n",
    "    y_true=label_test, y_pred=label_pred_Linsvc))\n",
    "print('accuracy = ', Linsvc.score(features_test, label_test))\n"
   ]
  },
  {
   "cell_type": "code",
   "execution_count": 22,
   "metadata": {},
   "outputs": [
    {
     "name": "stdout",
     "output_type": "stream",
     "text": [
      "confusion matrix = \n",
      " [[21  0  0]\n",
      " [ 0 29  1]\n",
      " [ 0  2 22]]\n",
      "accuracy =  0.96\n"
     ]
    }
   ],
   "source": [
    "#K近傍法による分類の混同行列、正解率を表示\n",
    "from sklearn.metrics import confusion_matrix\n",
    "print('confusion matrix = \\n', confusion_matrix(\n",
    "    y_true=label_test, y_pred=label_pred_KNeighbor))\n",
    "print('accuracy = ', Kneighbor.score(features_test, label_test))\n"
   ]
  },
  {
   "cell_type": "code",
   "execution_count": 23,
   "metadata": {},
   "outputs": [
    {
     "name": "stdout",
     "output_type": "stream",
     "text": [
      "confusion matrix = \n",
      " [[21  0  0]\n",
      " [ 0 29  1]\n",
      " [ 0  4 20]]\n",
      "accuracy =  0.9333333333333333\n"
     ]
    }
   ],
   "source": [
    "#(参考)ロジスティック回帰による分類の混同行列、正解率を表示\n",
    "from sklearn.metrics import confusion_matrix\n",
    "print('confusion matrix = \\n', confusion_matrix(\n",
    "    y_true=label_test, y_pred=label_pred_LogReg))\n",
    "print('accuracy = ', LogReg.score(features_test, label_test))\n"
   ]
  },
  {
   "cell_type": "markdown",
   "metadata": {},
   "source": [
    "# 教師あり学習: 回帰"
   ]
  },
  {
   "cell_type": "markdown",
   "metadata": {},
   "source": [
    "# 回帰とモデル選択の実装（ボストン住宅価格データセット）\n",
    "ボストンの住宅価格に関するデータセットを用いて、回帰を行い、住宅価格を予測します。さらに、モデル選択についての手法であるクロスバリデーションも適用します。"
   ]
  },
  {
   "cell_type": "code",
   "execution_count": 24,
   "metadata": {},
   "outputs": [
    {
     "name": "stderr",
     "output_type": "stream",
     "text": [
      "/opt/homebrew/Caskroom/miniforge/base/envs/packages/lib/python3.9/site-packages/sklearn/utils/deprecation.py:87: FutureWarning: Function load_boston is deprecated; `load_boston` is deprecated in 1.0 and will be removed in 1.2.\n",
      "\n",
      "    The Boston housing prices dataset has an ethical problem. You can refer to\n",
      "    the documentation of this function for further details.\n",
      "\n",
      "    The scikit-learn maintainers therefore strongly discourage the use of this\n",
      "    dataset unless the purpose of the code is to study and educate about\n",
      "    ethical issues in data science and machine learning.\n",
      "\n",
      "    In this special case, you can fetch the dataset from the original\n",
      "    source::\n",
      "\n",
      "        import pandas as pd\n",
      "        import numpy as np\n",
      "\n",
      "\n",
      "        data_url = \"http://lib.stat.cmu.edu/datasets/boston\"\n",
      "        raw_df = pd.read_csv(data_url, sep=\"\\s+\", skiprows=22, header=None)\n",
      "        data = np.hstack([raw_df.values[::2, :], raw_df.values[1::2, :2]])\n",
      "        target = raw_df.values[1::2, 2]\n",
      "\n",
      "    Alternative datasets include the California housing dataset (i.e.\n",
      "    :func:`~sklearn.datasets.fetch_california_housing`) and the Ames housing\n",
      "    dataset. You can load the datasets as follows::\n",
      "\n",
      "        from sklearn.datasets import fetch_california_housing\n",
      "        housing = fetch_california_housing()\n",
      "\n",
      "    for the California housing dataset and::\n",
      "\n",
      "        from sklearn.datasets import fetch_openml\n",
      "        housing = fetch_openml(name=\"house_prices\", as_frame=True)\n",
      "\n",
      "    for the Ames housing dataset.\n",
      "    \n",
      "  warnings.warn(msg, category=FutureWarning)\n"
     ]
    },
    {
     "data": {
      "text/html": [
       "<div>\n",
       "<style scoped>\n",
       "    .dataframe tbody tr th:only-of-type {\n",
       "        vertical-align: middle;\n",
       "    }\n",
       "\n",
       "    .dataframe tbody tr th {\n",
       "        vertical-align: top;\n",
       "    }\n",
       "\n",
       "    .dataframe thead th {\n",
       "        text-align: right;\n",
       "    }\n",
       "</style>\n",
       "<table border=\"1\" class=\"dataframe\">\n",
       "  <thead>\n",
       "    <tr style=\"text-align: right;\">\n",
       "      <th></th>\n",
       "      <th>CRIM</th>\n",
       "      <th>ZN</th>\n",
       "      <th>INDUS</th>\n",
       "      <th>CHAS</th>\n",
       "      <th>NOX</th>\n",
       "      <th>RM</th>\n",
       "      <th>AGE</th>\n",
       "      <th>DIS</th>\n",
       "      <th>RAD</th>\n",
       "      <th>TAX</th>\n",
       "      <th>PTRATIO</th>\n",
       "      <th>B</th>\n",
       "      <th>LSTAT</th>\n",
       "    </tr>\n",
       "  </thead>\n",
       "  <tbody>\n",
       "    <tr>\n",
       "      <th>0</th>\n",
       "      <td>0.00632</td>\n",
       "      <td>18.0</td>\n",
       "      <td>2.31</td>\n",
       "      <td>0.0</td>\n",
       "      <td>0.538</td>\n",
       "      <td>6.575</td>\n",
       "      <td>65.2</td>\n",
       "      <td>4.0900</td>\n",
       "      <td>1.0</td>\n",
       "      <td>296.0</td>\n",
       "      <td>15.3</td>\n",
       "      <td>396.90</td>\n",
       "      <td>4.98</td>\n",
       "    </tr>\n",
       "    <tr>\n",
       "      <th>1</th>\n",
       "      <td>0.02731</td>\n",
       "      <td>0.0</td>\n",
       "      <td>7.07</td>\n",
       "      <td>0.0</td>\n",
       "      <td>0.469</td>\n",
       "      <td>6.421</td>\n",
       "      <td>78.9</td>\n",
       "      <td>4.9671</td>\n",
       "      <td>2.0</td>\n",
       "      <td>242.0</td>\n",
       "      <td>17.8</td>\n",
       "      <td>396.90</td>\n",
       "      <td>9.14</td>\n",
       "    </tr>\n",
       "    <tr>\n",
       "      <th>2</th>\n",
       "      <td>0.02729</td>\n",
       "      <td>0.0</td>\n",
       "      <td>7.07</td>\n",
       "      <td>0.0</td>\n",
       "      <td>0.469</td>\n",
       "      <td>7.185</td>\n",
       "      <td>61.1</td>\n",
       "      <td>4.9671</td>\n",
       "      <td>2.0</td>\n",
       "      <td>242.0</td>\n",
       "      <td>17.8</td>\n",
       "      <td>392.83</td>\n",
       "      <td>4.03</td>\n",
       "    </tr>\n",
       "    <tr>\n",
       "      <th>3</th>\n",
       "      <td>0.03237</td>\n",
       "      <td>0.0</td>\n",
       "      <td>2.18</td>\n",
       "      <td>0.0</td>\n",
       "      <td>0.458</td>\n",
       "      <td>6.998</td>\n",
       "      <td>45.8</td>\n",
       "      <td>6.0622</td>\n",
       "      <td>3.0</td>\n",
       "      <td>222.0</td>\n",
       "      <td>18.7</td>\n",
       "      <td>394.63</td>\n",
       "      <td>2.94</td>\n",
       "    </tr>\n",
       "    <tr>\n",
       "      <th>4</th>\n",
       "      <td>0.06905</td>\n",
       "      <td>0.0</td>\n",
       "      <td>2.18</td>\n",
       "      <td>0.0</td>\n",
       "      <td>0.458</td>\n",
       "      <td>7.147</td>\n",
       "      <td>54.2</td>\n",
       "      <td>6.0622</td>\n",
       "      <td>3.0</td>\n",
       "      <td>222.0</td>\n",
       "      <td>18.7</td>\n",
       "      <td>396.90</td>\n",
       "      <td>5.33</td>\n",
       "    </tr>\n",
       "  </tbody>\n",
       "</table>\n",
       "</div>"
      ],
      "text/plain": [
       "      CRIM    ZN  INDUS  CHAS    NOX     RM   AGE     DIS  RAD    TAX  \\\n",
       "0  0.00632  18.0   2.31   0.0  0.538  6.575  65.2  4.0900  1.0  296.0   \n",
       "1  0.02731   0.0   7.07   0.0  0.469  6.421  78.9  4.9671  2.0  242.0   \n",
       "2  0.02729   0.0   7.07   0.0  0.469  7.185  61.1  4.9671  2.0  242.0   \n",
       "3  0.03237   0.0   2.18   0.0  0.458  6.998  45.8  6.0622  3.0  222.0   \n",
       "4  0.06905   0.0   2.18   0.0  0.458  7.147  54.2  6.0622  3.0  222.0   \n",
       "\n",
       "   PTRATIO       B  LSTAT  \n",
       "0     15.3  396.90   4.98  \n",
       "1     17.8  396.90   9.14  \n",
       "2     17.8  392.83   4.03  \n",
       "3     18.7  394.63   2.94  \n",
       "4     18.7  396.90   5.33  "
      ]
     },
     "execution_count": 24,
     "metadata": {},
     "output_type": "execute_result"
    }
   ],
   "source": [
    "#ボストン住宅価格データセットを読み込み\n",
    "boston = load_boston()\n",
    "\n",
    "#特徴量をデータフレームに格納して、最初の五行を表示\n",
    "boston_features = pd.DataFrame(data=boston.data, columns=boston.feature_names)\n",
    "boston_features.head()"
   ]
  },
  {
   "cell_type": "code",
   "execution_count": 25,
   "metadata": {},
   "outputs": [
    {
     "data": {
      "text/html": [
       "<div>\n",
       "<style scoped>\n",
       "    .dataframe tbody tr th:only-of-type {\n",
       "        vertical-align: middle;\n",
       "    }\n",
       "\n",
       "    .dataframe tbody tr th {\n",
       "        vertical-align: top;\n",
       "    }\n",
       "\n",
       "    .dataframe thead th {\n",
       "        text-align: right;\n",
       "    }\n",
       "</style>\n",
       "<table border=\"1\" class=\"dataframe\">\n",
       "  <thead>\n",
       "    <tr style=\"text-align: right;\">\n",
       "      <th></th>\n",
       "      <th>CRIM</th>\n",
       "      <th>ZN</th>\n",
       "      <th>INDUS</th>\n",
       "      <th>CHAS</th>\n",
       "      <th>NOX</th>\n",
       "      <th>RM</th>\n",
       "      <th>AGE</th>\n",
       "      <th>DIS</th>\n",
       "      <th>RAD</th>\n",
       "      <th>TAX</th>\n",
       "      <th>PTRATIO</th>\n",
       "      <th>B</th>\n",
       "      <th>LSTAT</th>\n",
       "    </tr>\n",
       "  </thead>\n",
       "  <tbody>\n",
       "    <tr>\n",
       "      <th>count</th>\n",
       "      <td>506.000000</td>\n",
       "      <td>506.000000</td>\n",
       "      <td>506.000000</td>\n",
       "      <td>506.000000</td>\n",
       "      <td>506.000000</td>\n",
       "      <td>506.000000</td>\n",
       "      <td>506.000000</td>\n",
       "      <td>506.000000</td>\n",
       "      <td>506.000000</td>\n",
       "      <td>506.000000</td>\n",
       "      <td>506.000000</td>\n",
       "      <td>506.000000</td>\n",
       "      <td>506.000000</td>\n",
       "    </tr>\n",
       "    <tr>\n",
       "      <th>mean</th>\n",
       "      <td>3.613524</td>\n",
       "      <td>11.363636</td>\n",
       "      <td>11.136779</td>\n",
       "      <td>0.069170</td>\n",
       "      <td>0.554695</td>\n",
       "      <td>6.284634</td>\n",
       "      <td>68.574901</td>\n",
       "      <td>3.795043</td>\n",
       "      <td>9.549407</td>\n",
       "      <td>408.237154</td>\n",
       "      <td>18.455534</td>\n",
       "      <td>356.674032</td>\n",
       "      <td>12.653063</td>\n",
       "    </tr>\n",
       "    <tr>\n",
       "      <th>std</th>\n",
       "      <td>8.601545</td>\n",
       "      <td>23.322453</td>\n",
       "      <td>6.860353</td>\n",
       "      <td>0.253994</td>\n",
       "      <td>0.115878</td>\n",
       "      <td>0.702617</td>\n",
       "      <td>28.148861</td>\n",
       "      <td>2.105710</td>\n",
       "      <td>8.707259</td>\n",
       "      <td>168.537116</td>\n",
       "      <td>2.164946</td>\n",
       "      <td>91.294864</td>\n",
       "      <td>7.141062</td>\n",
       "    </tr>\n",
       "    <tr>\n",
       "      <th>min</th>\n",
       "      <td>0.006320</td>\n",
       "      <td>0.000000</td>\n",
       "      <td>0.460000</td>\n",
       "      <td>0.000000</td>\n",
       "      <td>0.385000</td>\n",
       "      <td>3.561000</td>\n",
       "      <td>2.900000</td>\n",
       "      <td>1.129600</td>\n",
       "      <td>1.000000</td>\n",
       "      <td>187.000000</td>\n",
       "      <td>12.600000</td>\n",
       "      <td>0.320000</td>\n",
       "      <td>1.730000</td>\n",
       "    </tr>\n",
       "    <tr>\n",
       "      <th>25%</th>\n",
       "      <td>0.082045</td>\n",
       "      <td>0.000000</td>\n",
       "      <td>5.190000</td>\n",
       "      <td>0.000000</td>\n",
       "      <td>0.449000</td>\n",
       "      <td>5.885500</td>\n",
       "      <td>45.025000</td>\n",
       "      <td>2.100175</td>\n",
       "      <td>4.000000</td>\n",
       "      <td>279.000000</td>\n",
       "      <td>17.400000</td>\n",
       "      <td>375.377500</td>\n",
       "      <td>6.950000</td>\n",
       "    </tr>\n",
       "    <tr>\n",
       "      <th>50%</th>\n",
       "      <td>0.256510</td>\n",
       "      <td>0.000000</td>\n",
       "      <td>9.690000</td>\n",
       "      <td>0.000000</td>\n",
       "      <td>0.538000</td>\n",
       "      <td>6.208500</td>\n",
       "      <td>77.500000</td>\n",
       "      <td>3.207450</td>\n",
       "      <td>5.000000</td>\n",
       "      <td>330.000000</td>\n",
       "      <td>19.050000</td>\n",
       "      <td>391.440000</td>\n",
       "      <td>11.360000</td>\n",
       "    </tr>\n",
       "    <tr>\n",
       "      <th>75%</th>\n",
       "      <td>3.677083</td>\n",
       "      <td>12.500000</td>\n",
       "      <td>18.100000</td>\n",
       "      <td>0.000000</td>\n",
       "      <td>0.624000</td>\n",
       "      <td>6.623500</td>\n",
       "      <td>94.075000</td>\n",
       "      <td>5.188425</td>\n",
       "      <td>24.000000</td>\n",
       "      <td>666.000000</td>\n",
       "      <td>20.200000</td>\n",
       "      <td>396.225000</td>\n",
       "      <td>16.955000</td>\n",
       "    </tr>\n",
       "    <tr>\n",
       "      <th>max</th>\n",
       "      <td>88.976200</td>\n",
       "      <td>100.000000</td>\n",
       "      <td>27.740000</td>\n",
       "      <td>1.000000</td>\n",
       "      <td>0.871000</td>\n",
       "      <td>8.780000</td>\n",
       "      <td>100.000000</td>\n",
       "      <td>12.126500</td>\n",
       "      <td>24.000000</td>\n",
       "      <td>711.000000</td>\n",
       "      <td>22.000000</td>\n",
       "      <td>396.900000</td>\n",
       "      <td>37.970000</td>\n",
       "    </tr>\n",
       "  </tbody>\n",
       "</table>\n",
       "</div>"
      ],
      "text/plain": [
       "             CRIM          ZN       INDUS        CHAS         NOX          RM  \\\n",
       "count  506.000000  506.000000  506.000000  506.000000  506.000000  506.000000   \n",
       "mean     3.613524   11.363636   11.136779    0.069170    0.554695    6.284634   \n",
       "std      8.601545   23.322453    6.860353    0.253994    0.115878    0.702617   \n",
       "min      0.006320    0.000000    0.460000    0.000000    0.385000    3.561000   \n",
       "25%      0.082045    0.000000    5.190000    0.000000    0.449000    5.885500   \n",
       "50%      0.256510    0.000000    9.690000    0.000000    0.538000    6.208500   \n",
       "75%      3.677083   12.500000   18.100000    0.000000    0.624000    6.623500   \n",
       "max     88.976200  100.000000   27.740000    1.000000    0.871000    8.780000   \n",
       "\n",
       "              AGE         DIS         RAD         TAX     PTRATIO           B  \\\n",
       "count  506.000000  506.000000  506.000000  506.000000  506.000000  506.000000   \n",
       "mean    68.574901    3.795043    9.549407  408.237154   18.455534  356.674032   \n",
       "std     28.148861    2.105710    8.707259  168.537116    2.164946   91.294864   \n",
       "min      2.900000    1.129600    1.000000  187.000000   12.600000    0.320000   \n",
       "25%     45.025000    2.100175    4.000000  279.000000   17.400000  375.377500   \n",
       "50%     77.500000    3.207450    5.000000  330.000000   19.050000  391.440000   \n",
       "75%     94.075000    5.188425   24.000000  666.000000   20.200000  396.225000   \n",
       "max    100.000000   12.126500   24.000000  711.000000   22.000000  396.900000   \n",
       "\n",
       "            LSTAT  \n",
       "count  506.000000  \n",
       "mean    12.653063  \n",
       "std      7.141062  \n",
       "min      1.730000  \n",
       "25%      6.950000  \n",
       "50%     11.360000  \n",
       "75%     16.955000  \n",
       "max     37.970000  "
      ]
     },
     "execution_count": 25,
     "metadata": {},
     "output_type": "execute_result"
    }
   ],
   "source": [
    "# 特徴量の基本統計量を確認\n",
    "boston_features.describe()\n"
   ]
  },
  {
   "cell_type": "code",
   "execution_count": 26,
   "metadata": {},
   "outputs": [
    {
     "data": {
      "text/plain": [
       "CRIM       0\n",
       "ZN         0\n",
       "INDUS      0\n",
       "CHAS       0\n",
       "NOX        0\n",
       "RM         0\n",
       "AGE        0\n",
       "DIS        0\n",
       "RAD        0\n",
       "TAX        0\n",
       "PTRATIO    0\n",
       "B          0\n",
       "LSTAT      0\n",
       "dtype: int64"
      ]
     },
     "execution_count": 26,
     "metadata": {},
     "output_type": "execute_result"
    }
   ],
   "source": [
    "#特徴量の欠損値の数を確認\n",
    "boston_features.isnull().sum()\n"
   ]
  },
  {
   "cell_type": "code",
   "execution_count": 27,
   "metadata": {},
   "outputs": [
    {
     "data": {
      "text/plain": [
       "count    506.000000\n",
       "mean      22.532806\n",
       "std        9.197104\n",
       "min        5.000000\n",
       "25%       17.025000\n",
       "50%       21.200000\n",
       "75%       25.000000\n",
       "max       50.000000\n",
       "dtype: float64"
      ]
     },
     "execution_count": 27,
     "metadata": {},
     "output_type": "execute_result"
    }
   ],
   "source": [
    "#ターゲットをシリーズに格納\n",
    "boston_target = pd.Series(data=boston.target)\n",
    "\n",
    "#ターゲットの基本統計量を確認\n",
    "boston_target.describe()\n"
   ]
  },
  {
   "cell_type": "code",
   "execution_count": 28,
   "metadata": {},
   "outputs": [],
   "source": [
    "#学習データとテストデータに分割\n",
    "from sklearn.model_selection import train_test_split\n",
    "features_train, features_test, target_train, target_test = train_test_split(\n",
    "    boston_features, boston_target, test_size=0.5, random_state=0)\n"
   ]
  },
  {
   "cell_type": "markdown",
   "metadata": {},
   "source": [
    "# 回帰のモデル実装\n",
    "LassoとRidgeRegressionを選んで実装することとします。また、参考に通常の線形回帰モデルでも予測を行います。"
   ]
  },
  {
   "cell_type": "code",
   "execution_count": 31,
   "metadata": {},
   "outputs": [
    {
     "name": "stdout",
     "output_type": "stream",
     "text": [
      "[24.92016544 24.37622341 28.73960915 12.65498587 20.12822066 20.278054\n",
      " 20.95011001 21.70953097 19.33986144 19.76993978  5.2619872  15.01342281\n",
      " 18.55060734  5.14910083 40.88235725 32.82536693 22.02311106 36.97949949\n",
      " 31.39580121 23.37184357 25.00361915 24.96795955 19.91563456 30.413859\n",
      " 21.81020632 10.75569666 17.47625276 22.31335423 34.73258421 19.92547932\n",
      " 17.7296372  19.46532614 19.04038153 22.70199974 28.48412881 21.34836541\n",
      " 10.64171141 25.65179112 16.72496679 13.66075877 25.616441   19.73714296\n",
      " 22.02373819 14.67513692 23.37737951 24.41194578 18.21764789 26.58215541\n",
      " 12.38733835 24.26839401 24.83350403 17.88968114 23.78701489 30.59748917\n",
      " 14.04863284 21.42971232 20.4370754  14.65041284 14.15350119 20.05664239\n",
      " 18.44037773 21.76402304 32.97351102 31.87895694 17.65296813 32.92082893\n",
      " 19.72010474 18.21955219 17.78977064 22.91306219 21.3313637  23.19983381\n",
      " 31.19722097 30.26343896 25.65488982  4.40093688 36.7227301  23.38754183\n",
      " 26.84605697 19.75879492 28.12397051 19.99664244 19.83303547 37.57257134\n",
      " 38.79083131 24.47227503 23.52117202 15.67099029 31.10688486 17.59966111\n",
      " 15.45323965 13.89532927 25.10556217 30.96066521 23.39290415 20.01745286\n",
      " -1.59486856 26.24695851 16.74520348 17.1468398  25.33142769 21.76901818\n",
      " 31.23327612 21.10664712 26.35302279 23.38268984  6.11698904 16.75011137\n",
      " 23.31220967 28.79208972 34.31646405 11.20559333 18.81847031 20.19203659\n",
      "  9.85112864 22.01227257  4.58564305 21.16192511  9.33458659 44.5245439\n",
      " 31.07507553 12.4532865  16.08367665 22.00673529 23.86703909 20.08052609\n",
      " 34.68801212 12.01569712 20.95151148 34.6919041  20.13879412 12.66366644\n",
      " 14.296668   23.139043   15.06436706 32.03718024 24.78255648 17.56064424\n",
      " 24.43372032  8.40256417 14.4540959  21.64003807 32.7141498  28.2124192\n",
      " 25.52170523 15.34156612 32.10451279 27.88287677 14.26978229  6.80497554\n",
      " 29.24515985 25.29902636  2.88930193 28.15026706 17.74343944 30.00162522\n",
      " 20.08883809 15.06383163 16.65340317 11.54766816  9.11228585 19.58957878\n",
      " 34.22487102 32.75517773 23.04285814 19.29631322 23.09536435 26.16858713\n",
      " 25.19424846 17.99910129 32.30007768  9.55631088 21.01326285 33.15147297\n",
      " 19.24879474 15.68677638 18.91905943 14.01178895 25.16011345 23.53566533\n",
      " 18.12333476 14.49932983 20.69256777 25.54250071 15.86901607 25.77360726\n",
      " 22.47076189 28.89806352 35.69855293 18.03963698 12.54363809 35.75478824\n",
      " 30.81833159 20.87327543 40.9449264  29.33902154 28.37719619 18.71876943\n",
      " 27.80570507 39.27088079 28.55733202 17.26095753 38.92544895 35.24984191\n",
      " 15.8524675  30.05014264 25.81187442 24.66414836 22.03568969 24.22560225\n",
      " 27.24506163 28.68177207 15.67317613 25.71950121 23.10334026 12.51083095\n",
      " 13.37723125 25.59498739 20.41552689 30.57605679  9.91000411 20.83899628\n",
      " 16.80678417 20.8634004  22.82650739 23.87083985 10.46497215 25.1314839\n",
      " 28.63961825 19.60563786 13.70963449 25.89552927 25.79079453 25.90816378\n",
      " 23.47405794 27.10582594 17.83309206 22.21053077 37.50602571 20.11626503\n",
      " 38.03808616 26.73901134 23.65774355 16.52683472 31.62665283 21.92065071\n",
      " 27.20837531 13.23167901 32.41046412 12.86124324 -1.09808088 19.11209164\n",
      " 13.77278576]\n"
     ]
    }
   ],
   "source": [
    "from sklearn.linear_model import Lasso\n",
    "#必要なモジュールをインポート\n",
    "#Lassoモデルのインスタンスを作成\n",
    "Lasso = Lasso(alpha=0.1, random_state=0)\n",
    "#Lassoモデルで学習\n",
    "Lasso.fit(features_train, target_train)\n",
    "#学習させたLassoモデルで住宅価格を予測\n",
    "target_pred_Lasso = Lasso.predict(features_test)\n",
    "print(target_pred_Lasso)\n"
   ]
  },
  {
   "cell_type": "code",
   "execution_count": 33,
   "metadata": {},
   "outputs": [
    {
     "name": "stdout",
     "output_type": "stream",
     "text": [
      "[24.80360943 24.73539403 30.39780122 12.40553362 20.79803971 19.40388955\n",
      " 21.18214301 20.99565887 19.02426418 19.99879681  5.36368389 16.21808903\n",
      " 17.93509271  5.05178706 42.65517908 32.94679998 22.78240002 37.37457445\n",
      " 31.20174003 23.01044247 24.69486913 25.35061009 20.08583937 30.62107128\n",
      " 21.81051138 11.07453103 17.03360027 20.36448845 35.19824057 20.31916718\n",
      " 18.27284982 18.76847174 19.03135313 23.14224138 28.75382621 21.69617143\n",
      " 10.68363849 26.98612597 17.74210481 14.72099602 26.10056456 19.84916569\n",
      " 21.91301663 15.41364384 22.76364783 24.53280879 18.95001075 26.00977557\n",
      " 10.66191027 24.22559263 24.34162346 17.26895079 23.97355545 30.04081602\n",
      " 13.86711888 21.24051043 20.35188734 14.30903014 14.90674153 21.97960649\n",
      " 17.58350061 21.40501834 33.26780334 31.69113278 18.02957703 33.33149629\n",
      " 19.33748019 18.37075237 18.88335454 22.80962814 22.29273219 23.82481841\n",
      " 31.36615247 29.65358093 26.46411679  4.37177305 36.91933075 23.43689537\n",
      " 26.88842557 19.28277885 28.38138273 19.80757983 19.92098142 37.97843599\n",
      " 39.28449183 23.83591997 23.95139144 16.47125272 28.92955447 17.23660184\n",
      " 15.35345144 13.56670433 24.88286478 31.30510158 22.70984646 19.70141602\n",
      " -1.09785754 25.69690551 16.495135   16.91385925 25.30311944 21.93617518\n",
      " 33.11436621 21.45002413 26.78568496 23.25756215  6.33894917 16.14804659\n",
      " 22.68358492 29.14751686 34.6897971  12.26591112 18.99093941 20.4416618\n",
      " 10.26199203 23.62978758  4.50715273 20.7924859   9.17500061 46.37993665\n",
      " 31.18189923 12.38153468 16.2283475  21.57472331 23.68129086 20.45262611\n",
      " 34.9529936  12.12028666 20.57174537 36.36776843 19.99492569 13.11061825\n",
      " 14.82115649 23.60528837 14.95041732 31.60487394 24.89631094 17.26347691\n",
      " 24.04572436  8.92658585 14.68702373 21.08854614 32.66094855 27.9744676\n",
      " 25.89569931 14.81189007 31.95171899 27.48050047 14.40779708  6.85560663\n",
      " 28.97770129 24.85020118  3.15606911 28.28244339 17.55791732 30.12092268\n",
      " 20.44845347 14.78480654 16.84078494 11.35501902  8.94725034 18.96980365\n",
      " 34.46004328 32.96842324 22.57718043 18.89945274 22.71558388 26.42051847\n",
      " 23.86382597 17.72554648 32.46187602 10.2163413  20.40701641 34.9107136\n",
      " 19.38228908 15.89505368 18.55025052 13.71141012 25.4016886  23.61476089\n",
      " 17.55884853 14.4341073  19.83871804 25.84136004 16.14916476 25.0405114\n",
      " 21.97913023 28.36449657 35.62573288 17.72175034 12.29031291 35.32577188\n",
      " 30.76851696 20.56166999 40.64503844 29.68043111 28.88412922 18.32806256\n",
      " 27.46791625 41.04941881 29.11855242 16.51433547 38.3742006  35.73870881\n",
      " 14.36989242 30.4268908  23.77652602 24.28200247 22.13578496 24.5854704\n",
      " 27.33370895 30.23572047 15.2516453  26.0632625  23.09565087 12.85143665\n",
      " 13.43106257 25.4470241  20.14147533 30.53691959 10.75599764 22.93398948\n",
      " 16.30689294 19.02189782 22.57467388 24.12339572 10.24179527 25.35659961\n",
      " 28.72254404 19.6650311  13.439987   25.6945071  25.67835821 25.22030606\n",
      " 23.58007161 27.58674908 17.21749038 22.29407326 36.99504245 20.48949987\n",
      " 38.91248014 26.25209354 22.90996692 16.31019155 31.71964715 21.18912978\n",
      " 27.25051193 13.88869882 32.56969078 12.79231805  0.23770741 19.38262706\n",
      " 14.66214473]\n"
     ]
    }
   ],
   "source": [
    "\n",
    "from sklearn.linear_model import Ridge\n",
    "    #必要なモジュールをインポート\n",
    "\n",
    "    #Ridgeモデルのインスタンスを作成\n",
    "Ridge = Ridge(alpha=0.5, random_state=0)\n",
    "\n",
    "#Ridgeモデルで学習\n",
    "Ridge.fit(features_train, target_train)\n",
    "\n",
    "#Ridgeモデルで住宅価格を予測\n",
    "target_pred_Ridge = Ridge.predict(features_test)\n",
    "print(target_pred_Ridge)\n"
   ]
  },
  {
   "cell_type": "code",
   "execution_count": 34,
   "metadata": {},
   "outputs": [
    {
     "name": "stdout",
     "output_type": "stream",
     "text": [
      "[24.70960325 25.12631354 30.76503263 12.41405512 21.29599499 18.9820552\n",
      " 21.41132996 20.67952823 19.00064129 20.20283837  5.56400169 16.92323348\n",
      " 17.51322896  5.16858442 42.95215092 32.9806573  23.36140299 37.62826682\n",
      " 31.09206869 22.89283336 24.57289742 25.81536634 20.26467062 30.79131551\n",
      " 21.95868456 11.79141163 16.88663056 19.19534708 35.40278965 20.65291048\n",
      " 18.68119761 18.36807058 19.23453044 23.58815977 29.06218826 21.12413253\n",
      " 10.68515822 27.15483771 18.39065879 15.3858284  26.49125897 19.99603848\n",
      " 21.88280039 16.08194711 22.40800324 24.76641999 19.58660105 24.79000679\n",
      "  9.59564604 24.21884557 23.12098756 16.80153308 24.24031563 29.42927442\n",
      " 13.851603   21.15932546 20.39800177 14.21419815 15.6911474  22.4954085\n",
      " 17.15556137 21.23238059 33.42098655 31.5832431  18.3631319  33.63873423\n",
      " 19.03143924 18.53466863 19.51152135 22.78181836 23.02677155 24.29954349\n",
      " 31.56802819 29.23584248 27.05755582  4.38763735 36.91142859 23.52551148\n",
      " 26.99615168 19.06117058 28.61936286 19.70539962 20.20018867 38.11656029\n",
      " 39.40739598 23.47651041 24.34561591 17.01880294 27.60036823 16.99061304\n",
      " 15.33754975 13.19649296 24.90225643 31.60663108 22.42863925 19.60953083\n",
      " -0.64366289 25.46305567 16.23810593 16.96768945 25.28964327 22.1171918\n",
      " 33.51340827 21.72885838 27.06963598 23.32508253  6.53517785 16.01002634\n",
      " 22.39096284 29.37384875 35.06042411 12.98474483 19.22307352 20.67316142\n",
      " 10.60642557 23.87099086  4.24995621 20.63914217  9.1923101  46.58112348\n",
      " 31.28548428 12.38719796 16.49617    21.33774693 23.72612379 20.84953682\n",
      " 35.10749259 12.36324576 20.49277748 36.55090503 19.89353268 13.18177854\n",
      " 15.18390616 24.07901599 14.64032547 31.2920766  25.087052   16.20192649\n",
      " 23.78318248  9.10383407 14.7780917  20.7135115  32.65362197 27.88345898\n",
      " 26.12205838 14.6308059  31.7715576  27.2345829  14.40165637  6.90556885\n",
      " 28.94939984 24.71309943  3.32758336 28.45442843 17.44874113 30.30050709\n",
      " 20.81047016 14.65387403 17.09415301 11.36320242  8.73648065 18.72443963\n",
      " 34.65199543 33.11857981 22.32556771 18.68725487 22.60260628 26.71062964\n",
      " 23.07675753 17.64893217 32.61236665 10.76594499 20.01921258 35.39492797\n",
      " 19.49490616 16.02435859 18.42617588 13.58248203 25.47207163 23.86465012\n",
      " 17.17768694 14.44135225 19.41047172 26.24854568 16.40814587 24.57004427\n",
      " 21.67962181 28.07741837 35.45607821 17.46982551 11.98261238 35.00508285\n",
      " 30.73962887 20.56233414 40.40301328 29.98928161 29.24662155 18.09555979\n",
      " 27.36799836 41.30634103 29.57615132 16.1231646  37.9805322  36.03262161\n",
      " 13.26174724 30.93226829 22.50546447 24.05427093 22.22443246 24.97284018\n",
      " 27.47065648 30.45940869 14.91767771 26.42830483 23.26040438 12.96248113\n",
      " 13.38567722 25.36224044 20.01323717 30.55186654 11.5422362  23.45688674\n",
      " 16.08697203 17.92203555 22.54035626 23.42031237 10.17545169 25.60734821\n",
      " 28.81246774 19.79296828 13.25633987 25.72657142 25.69353498 24.74344374\n",
      " 23.71613474 28.04199298 16.7731534  22.47573732 36.67446004 20.84322064\n",
      " 38.29315128 25.99254184 22.47775507 16.23275762 31.74364037 20.80397322\n",
      " 27.39774245 14.37896064 32.60489109 12.78765107  1.20660832 19.44277125\n",
      " 15.3198648 ]\n"
     ]
    }
   ],
   "source": [
    "#（参考）\n",
    "#必要なモジュールをインポート\n",
    "from sklearn.linear_model import LinearRegression\n",
    "\n",
    "#線形モデルのインスタンスを作成\n",
    "LinReg = LinearRegression()\n",
    "\n",
    "#線形モデルで学習\n",
    "LinReg.fit(features_train, target_train)\n",
    "\n",
    "#線形モデルで住宅価格を予測\n",
    "target_pred_LinReg = LinReg.predict(features_test)\n",
    "print(target_pred_LinReg)\n"
   ]
  },
  {
   "cell_type": "markdown",
   "metadata": {},
   "source": [
    "# 決定係数を求める\n",
    "3つのモデルで予測ができたところで、モデルの性能を評価するために評価指標を計算します。ここでは、決定係数を用いることとします。なお、決定係数とは、簡単に言えば「実際の値のうち予測モデルで説明できた割合」を表す評価指標で０〜１の範囲で変動し、大きければ大きいほどモデルの性能がいいということになります。"
   ]
  },
  {
   "cell_type": "code",
   "execution_count": 36,
   "metadata": {},
   "outputs": [
    {
     "name": "stdout",
     "output_type": "stream",
     "text": [
      "R-squared :  0.6537204778207003\n"
     ]
    }
   ],
   "source": [
    "#Lassoモデルによる回帰の評価(決定係数の表示)\n",
    "print(\"R-squared : \",Lasso.score(features_test,target_test))"
   ]
  },
  {
   "cell_type": "code",
   "execution_count": 38,
   "metadata": {},
   "outputs": [
    {
     "name": "stdout",
     "output_type": "stream",
     "text": [
      "R-squared :  0.6625759807022442\n"
     ]
    }
   ],
   "source": [
    "#Ridgeモデルによる回帰の評価(決定係数の表示)\n",
    "print(\"R-squared : \",Ridge.score(features_test,target_test))"
   ]
  },
  {
   "cell_type": "code",
   "execution_count": 39,
   "metadata": {},
   "outputs": [
    {
     "name": "stdout",
     "output_type": "stream",
     "text": [
      "R-squared :  0.6662719929919427\n"
     ]
    }
   ],
   "source": [
    "#（参考）線形モデルによる回帰の評価(決定係数の表示)\n",
    "print(\"R-squared : \", LinReg.score(features_test, target_test))\n"
   ]
  },
  {
   "cell_type": "markdown",
   "metadata": {},
   "source": [
    "# モデルの評価と選択：クロスバリデーション（交差検証）　の実装\n",
    "\n"
   ]
  },
  {
   "cell_type": "code",
   "execution_count": 40,
   "metadata": {},
   "outputs": [
    {
     "name": "stdout",
     "output_type": "stream",
     "text": [
      "[0.55697477 0.65577592 0.59410602 0.78246293 0.78063311]\n",
      "R-squared_Average　: 0.67\n"
     ]
    }
   ],
   "source": [
    "from sklearn.model_selection import ShuffleSplit, cross_val_score\n",
    "\n",
    "#データセットをランダムに５分割するための変数cvを定義\n",
    "cv = ShuffleSplit(n_splits=5, test_size=0.2, random_state=0)\n",
    "\n",
    "#cvを用いてクロスバリデーションを実行\n",
    "scores = cross_val_score(Lasso, boston_features, boston_target, cv=cv)\n",
    "\n",
    "#結果を表示\n",
    "print(scores)\n",
    "print(\"R-squared_Average　: {０:.2f}\".format(scores.mean()))\n"
   ]
  },
  {
   "cell_type": "code",
   "execution_count": 41,
   "metadata": {},
   "outputs": [
    {
     "name": "stdout",
     "output_type": "stream",
     "text": [
      "[0.58364982 0.67498977 0.62322026 0.79457322 0.77713899]\n",
      "R-squared_Average　: 0.69\n"
     ]
    }
   ],
   "source": [
    "#cvを用いてクロスバリデーションを実行\n",
    "scores = cross_val_score(Ridge, boston_features, boston_target, cv=cv)\n",
    "\n",
    "#結果を表示\n",
    "print(scores)\n",
    "print(\"R-squared_Average　: {０:.2f}\".format(scores.mean()))\n"
   ]
  },
  {
   "cell_type": "code",
   "execution_count": 42,
   "metadata": {},
   "outputs": [
    {
     "name": "stdout",
     "output_type": "stream",
     "text": [
      "[0.58922238 0.67790515 0.62474713 0.79455314 0.7751921 ]\n",
      "R-squared_Average　: 0.69\n"
     ]
    }
   ],
   "source": [
    "#cvを用いてクロスバリデーションを実行\n",
    "scores = cross_val_score(LinReg, boston_features, boston_target, cv=cv)\n",
    "\n",
    "#結果を表示\n",
    "print(scores)\n",
    "print(\"R-squared_Average　: {０:.2f}\".format(scores.mean()))\n"
   ]
  }
 ],
 "metadata": {
  "interpreter": {
   "hash": "e6220bb2beed724193a5f25fb0c3e2c8b520296ed4cd1429fd05072e3c19c5a5"
  },
  "kernelspec": {
   "display_name": "Python 3.9.7 64-bit ('packages': conda)",
   "language": "python",
   "name": "python3"
  },
  "language_info": {
   "codemirror_mode": {
    "name": "ipython",
    "version": 3
   },
   "file_extension": ".py",
   "mimetype": "text/x-python",
   "name": "python",
   "nbconvert_exporter": "python",
   "pygments_lexer": "ipython3",
   "version": "3.9.7"
  },
  "orig_nbformat": 4
 },
 "nbformat": 4,
 "nbformat_minor": 2
}
